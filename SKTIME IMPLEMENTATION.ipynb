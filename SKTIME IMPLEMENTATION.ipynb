{
 "cells": [
  {
   "cell_type": "markdown",
   "id": "83f3ee87",
   "metadata": {},
   "source": [
    "### Importing libraries"
   ]
  },
  {
   "cell_type": "code",
   "execution_count": 1,
   "id": "e8fbe78b",
   "metadata": {},
   "outputs": [],
   "source": [
    "import numpy as np\n",
    "import pandas as pd\n",
    "import matplotlib.pyplot as plt\n",
    "import sktime as sk\n",
    "from sktime.forecasting.arima import ARIMA\n",
    "from sktime.forecasting.arima import AutoARIMA\n",
    "from sklearn.linear_model import LinearRegression\n",
    "from sklearn.ensemble import GradientBoostingRegressor\n",
    "from sklearn.tree import DecisionTreeRegressor\n",
    "from sktime.forecasting.compose import make_reduction\n",
    "from sktime.transformations.series.detrend import Detrender,Deseasonalizer\n",
    "from sktime.forecasting.base import ForecastingHorizon\n",
    "from sktime.forecasting.model_selection import temporal_train_test_split\n",
    "from sktime.forecasting.theta import ThetaForecaster\n",
    "from sktime.utils.plotting import plot_series\n",
    "from sktime.forecasting.ets import AutoETS\n",
    "from sktime.performance_metrics.forecasting import MeanRelativeAbsoluteError\n",
    "from sktime.performance_metrics.forecasting import MeanSquaredScaledError\n",
    "from sktime.performance_metrics.forecasting import GeometricMeanAbsoluteError\n",
    "from codes import *\n",
    "rmsse = MeanSquaredScaledError(square_root=True)\n",
    "gmae = GeometricMeanAbsoluteError()\n",
    "la_models = []\n",
    "pb_models = []"
   ]
  },
  {
   "cell_type": "code",
   "execution_count": 25,
   "id": "c74326ea",
   "metadata": {},
   "outputs": [],
   "source": []
  },
  {
   "cell_type": "markdown",
   "id": "0366f1f0",
   "metadata": {},
   "source": [
    "### Loading dataset from data folders and accessing the data variables and then reshaping it"
   ]
  },
  {
   "cell_type": "code",
   "execution_count": 2,
   "id": "1c29ba4d",
   "metadata": {},
   "outputs": [],
   "source": [
    "train_data1 = np.load('data/METR-LA/train.npz')\n",
    "train_data2 = np.load('data/PEMS-BAY/train.npz')\n",
    "y_train1 = train_data1['y']\n",
    "y_train1 = reshape_func(y_train1)\n",
    "y_train1 = y_train1[:,0]\n",
    "y_train1 = pd.DataFrame(y_train1)\n",
    "y_train2 = train_data2['y']\n",
    "y_train2 = reshape_func(y_train2)\n",
    "y_train2 = y_train2[:,0]\n",
    "y_train2 = pd.DataFrame(y_train2)"
   ]
  },
  {
   "cell_type": "markdown",
   "id": "28922368",
   "metadata": {},
   "source": [
    "### Here we load the same variables from the test data and reshape them according to the same process for us to use."
   ]
  },
  {
   "cell_type": "code",
   "execution_count": 3,
   "id": "0c3f6320",
   "metadata": {},
   "outputs": [],
   "source": [
    "test_data1 = np.load('data/METR-LA/test.npz')\n",
    "y_test1 = test_data1['y']\n",
    "y_test1 = reshape_func(y_test1)\n",
    "y_test1 = y_test1[:,0]\n",
    "y_test1 =  pd.DataFrame(y_test1)\n",
    "test_data2 = np.load('data/PEMS-BAY/test.npz')\n",
    "y_test2 = test_data2['y']\n",
    "y_test2 = reshape_func(y_test2)\n",
    "y_test2 = y_test2[:,0]\n",
    "y_test2 =  pd.DataFrame(y_test2)"
   ]
  },
  {
   "cell_type": "markdown",
   "id": "9dde97cd",
   "metadata": {},
   "source": [
    "### Here we try some SKTIME basic models"
   ]
  },
  {
   "cell_type": "code",
   "execution_count": 4,
   "id": "e80ce84a",
   "metadata": {},
   "outputs": [],
   "source": [
    "la_model1 = model(y_train1,y_test1,ThetaForecaster(deseasonalize = False),False)\n",
    "pb_model1 = model(y_train2,y_test2,ThetaForecaster(deseasonalize = False),False)\n",
    "\n",
    "la_models.append(la_model1)\n",
    "pb_models.append(pb_model1)\n",
    "#plot_series(pb_model1[3][0::1000],y_test2[0::1000],labels = [\"y_pred\",\"y_test\"])\n",
    "#plot_series(la_model1[3][0::1000],y_test1[0::1000],labels = [\"y_pred\",\"y_test\"])\n",
    "\n"
   ]
  },
  {
   "cell_type": "markdown",
   "id": "adad0890",
   "metadata": {},
   "source": [
    "### To reduce error due to zero speeds, let's make some changes to the training and testing data\n",
    "### We impute the zero speeds with last known value (the function can be found in codes.py file)\n"
   ]
  },
  {
   "cell_type": "code",
   "execution_count": 5,
   "id": "a31d9faa",
   "metadata": {},
   "outputs": [],
   "source": [
    "ytrain_zfill1 = fillzeros(y_train1)\n",
    "ytest_zfill1 = fillzeros(y_test1)\n",
    "\n",
    "ytrain_zfill2 = fillzeros(y_train2)\n",
    "ytest_zfill2 = fillzeros(y_test2)\n",
    "\n",
    "la_model2 = model(ytrain_zfill1,ytest_zfill1,ThetaForecaster(deseasonalize=False),False)\n",
    "pb_model2 = model(ytrain_zfill2,ytest_zfill2,ThetaForecaster(deseasonalize=False),False)\n",
    "\n",
    "la_models.append(la_model2)\n",
    "pb_models.append(pb_model2)\n"
   ]
  },
  {
   "cell_type": "markdown",
   "id": "07fb943c",
   "metadata": {},
   "source": [
    "### We try to remove the trend and seasonality"
   ]
  },
  {
   "cell_type": "code",
   "execution_count": 6,
   "id": "9ff1de5a",
   "metadata": {},
   "outputs": [],
   "source": [
    "la_model3 = model(ytrain_zfill1,ytest_zfill1,ThetaForecaster(deseasonalize=False),True)\n",
    "pb_model3 = model(ytrain_zfill2,ytest_zfill2,ThetaForecaster(deseasonalize=False),True)\n",
    "\n",
    "la_models.append(la_model3)\n",
    "pb_models.append(pb_model3)"
   ]
  },
  {
   "cell_type": "code",
   "execution_count": 7,
   "id": "1b6d9add",
   "metadata": {},
   "outputs": [],
   "source": [
    "la_model4 = model(y_train1,y_test1,ThetaForecaster(deseasonalize=False),True)\n",
    "pb_model4 = model(y_train2,y_test2,ThetaForecaster(deseasonalize=False),True)\n",
    "la_models.append(la_model4)\n",
    "pb_models.append(pb_model4)"
   ]
  },
  {
   "cell_type": "markdown",
   "id": "0d9c79fb",
   "metadata": {},
   "source": [
    "### Now we are going to develop some more arima models"
   ]
  },
  {
   "cell_type": "code",
   "execution_count": 8,
   "id": "1005a4b3",
   "metadata": {},
   "outputs": [],
   "source": [
    "la_model5 = model(y_train1,y_test1,ARIMA(),False)\n",
    "pb_model5 = model(y_train2,y_test2,ARIMA(),False)\n",
    "la_models.append(la_model5)\n",
    "pb_models.append(pb_model5)"
   ]
  },
  {
   "cell_type": "code",
   "execution_count": 9,
   "id": "aecbbb7f",
   "metadata": {},
   "outputs": [],
   "source": [
    "la_model6 = model(ytrain_zfill1,ytest_zfill1,ARIMA(),False)\n",
    "pb_model6 = model(ytrain_zfill2,ytest_zfill2,ARIMA(),False)\n",
    "la_models.append(la_model6)\n",
    "pb_models.append(pb_model6)\n"
   ]
  },
  {
   "cell_type": "markdown",
   "id": "c9bce095",
   "metadata": {},
   "source": [
    "## Now we apply autoETS models"
   ]
  },
  {
   "cell_type": "code",
   "execution_count": 10,
   "id": "91e81569",
   "metadata": {},
   "outputs": [
    {
     "name": "stderr",
     "output_type": "stream",
     "text": [
      "D:\\Anaconda\\envs\\dcrnn\\lib\\site-packages\\sktime\\forecasting\\ets.py:248: UserWarning: Warning: time series is not strictly positive,multiplicative components are ommitted\n",
      "  warnings.warn(\n"
     ]
    }
   ],
   "source": [
    "la_model7 = model(y_train1,y_test1,AutoETS(auto=True),False)\n",
    "pb_model7 = model(y_train2,y_test2,AutoETS(auto=True),False)\n",
    "la_models.append(la_model7)\n",
    "pb_models.append(pb_model7)\n"
   ]
  },
  {
   "cell_type": "code",
   "execution_count": 11,
   "id": "36d052aa",
   "metadata": {},
   "outputs": [],
   "source": [
    "la_model8 = model(ytrain_zfill1,ytest_zfill1,AutoETS(auto=True),False)\n",
    "pb_model8 = model(ytrain_zfill2,ytest_zfill2,AutoETS(auto=True),False)\n",
    "la_models.append(la_model8)\n",
    "pb_models.append(pb_model8)"
   ]
  },
  {
   "cell_type": "code",
   "execution_count": 37,
   "id": "04fd6443",
   "metadata": {},
   "outputs": [],
   "source": [
    "N = len(la_models)\n",
    "smape_la = np.zeros(N)\n",
    "gmae_la = np.zeros(N)\n",
    "rmsse_la = np.zeros(N)\n",
    "\n",
    "for i in range(N):\n",
    "    smape_la[i] = la_models[i][0]\n",
    "    rmsse_la[i] = la_models[i][1]\n",
    "    gmae_la[i] = la_models[i][2]\n",
    "    "
   ]
  },
  {
   "cell_type": "code",
   "execution_count": 38,
   "id": "e5cdb639",
   "metadata": {},
   "outputs": [],
   "source": [
    "M = len(pb_models)\n",
    "smape_pb = np.zeros(M)\n",
    "gmae_pb = np.zeros(M)\n",
    "rmsse_pb = np.zeros(M)\n",
    "\n",
    "for i in range(M):\n",
    "    smape_pb[i] = pb_models[i][0]\n",
    "    rmsse_pb[i] = pb_models[i][1]\n",
    "    gmae_pb[i] = pb_models[i][2]"
   ]
  },
  {
   "cell_type": "code",
   "execution_count": 39,
   "id": "a99cf666",
   "metadata": {},
   "outputs": [
    {
     "data": {
      "text/plain": [
       "(<Figure size 1600x400 with 1 Axes>, <AxesSubplot:>)"
      ]
     },
     "execution_count": 39,
     "metadata": {},
     "output_type": "execute_result"
    },
    {
     "data": {
      "image/png": "[encoded data removed]",
      "text/plain": [
       "<Figure size 1600x400 with 1 Axes>"
      ]
     },
     "metadata": {},
     "output_type": "display_data"
    }
   ],
   "source": [
    "plot_series(pd.DataFrame(smape_la),pd.DataFrame(rmsse_la),pd.DataFrame(gmae_la),labels = [\"SMAPE\",\"RMSSE\",\"GMAE\"])"
   ]
  },
  {
   "cell_type": "code",
   "execution_count": 40,
   "id": "1cda7f32",
   "metadata": {},
   "outputs": [
    {
     "data": {
      "text/plain": [
       "(<Figure size 1600x400 with 1 Axes>, <AxesSubplot:>)"
      ]
     },
     "execution_count": 40,
     "metadata": {},
     "output_type": "execute_result"
    },
    {
     "data": {
      "image/png": "[encoded data removed]",
      "text/plain": [
       "<Figure size 1600x400 with 1 Axes>"
      ]
     },
     "metadata": {},
     "output_type": "display_data"
    }
   ],
   "source": [
    "plot_series(pd.DataFrame(smape_pb),pd.DataFrame(rmsse_pb),pd.DataFrame(gmae_pb),labels = [\"SMAPE\",\"RMSSE\",\"GMAE\"])"
   ]
  },
  {
   "cell_type": "code",
   "execution_count": null,
   "id": "30a07f58",
   "metadata": {},
   "outputs": [],
   "source": []
  },
  {
   "cell_type": "code",
   "execution_count": 12,
   "id": "01984241",
   "metadata": {},
   "outputs": [],
   "source": [
    "#regressors = [LinearRegression(),DecisionTreeRegressor(),GradientBoostingRegressor()]\n",
    "#smape_reg = []\n",
    "#rmsse_reg = []\n",
    "#ypred_reg = []\n",
    "#for i in regressors:\n",
    "  #  forecaster = make_reduction(i,window_length=12,strategy=\"recursive\")\n",
    " #   [smape1,rmsse1,yped1] = model(y_train,y_test,forecaster,False)\n",
    "#    smape_reg.append(smape1)\n",
    "#    rmsse_reg.append(rmsse1)\n",
    "#    ypred_reg.append(ypred1)\n",
    "    "
   ]
  },
  {
   "cell_type": "code",
   "execution_count": 13,
   "id": "d4584929",
   "metadata": {},
   "outputs": [],
   "source": [
    "#forecaster = make_reduction(DecisionTreeRegressor())#, scitype=\"time-series-regressor\")#strategy=\"recursive\")\n",
    "#forecaster.fit(yy_train)\n",
    "#pred = forecaster.predict(fh)\n",
    "#smape1 = smape(y_test,pred)\n",
    "#rmsse1 = rmsse(y_test,pred,y_train=y_train)"
   ]
  },
  {
   "cell_type": "code",
   "execution_count": 14,
   "id": "65bd68c8",
   "metadata": {},
   "outputs": [],
   "source": [
    "#fh = ForecastingHorizon(y_test.index, is_relative=False)\n",
    "#regressors = LinearRegression()\n",
    "#forecaster = make_reduction(regressors,window_length=52,strategy=\"multioutput\")\n",
    "#forecaster.fit(y_train,fh)\n",
    "#y_pred = forecaster.predict(fh)"
   ]
  },
  {
   "cell_type": "code",
   "execution_count": null,
   "id": "aaf7a511",
   "metadata": {},
   "outputs": [],
   "source": []
  }
 ],
 "metadata": {
  "kernelspec": {
   "display_name": "Python 3 (ipykernel)",
   "language": "python",
   "name": "python3"
  },
  "language_info": {
   "codemirror_mode": {
    "name": "ipython",
    "version": 3
   },
   "file_extension": ".py",
   "mimetype": "text/x-python",
   "name": "python",
   "nbconvert_exporter": "python",
   "pygments_lexer": "ipython3",
   "version": "3.8.13"
  }
 },
 "nbformat": 4,
 "nbformat_minor": 5
}
