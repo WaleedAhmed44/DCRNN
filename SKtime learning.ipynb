{
 "cells": [
  {
   "cell_type": "code",
   "execution_count": 1,
   "id": "a9869e6d",
   "metadata": {},
   "outputs": [],
   "source": [
    "from datetime import datetime, timedelta\n",
    "import matplotlib.pyplot as plt\n",
    "import numpy as np\n",
    "import pandas as pd\n",
    "import statsmodels.api as sm\n",
    "from statsmodels.tsa.stattools import adfuller, kpss\n",
    "from statsmodels.tsa.api import ExponentialSmoothing\n",
    "%matplotlib inline"
   ]
  },
  {
   "cell_type": "code",
   "execution_count": 26,
   "id": "6fe2d612",
   "metadata": {},
   "outputs": [
    {
     "name": "stdout",
     "output_type": "stream",
     "text": [
      "              0\n",
      "0    2010-01-01\n",
      "1    2010-01-02\n",
      "2    2010-01-03\n",
      "3    2010-01-04\n",
      "4    2010-01-05\n",
      "...         ...\n",
      "3647 2019-12-27\n",
      "3648 2019-12-28\n",
      "3649 2019-12-29\n",
      "3650 2019-12-30\n",
      "3651 2019-12-31\n",
      "\n",
      "[3652 rows x 1 columns]\n"
     ]
    }
   ],
   "source": [
    "#date\n",
    "numdays = 365*10 + 2\n",
    "base = '2010-01-01'\n",
    "base = datetime.strptime(base, '%Y-%m-%d')\n",
    "date_list = [base + timedelta(days=x) for x in range(numdays)]\n",
    "date_list = pd.DataFrame(date_list)\n",
    "print(date_list)\n",
    "#x = range(0,3652)\n",
    "#y = np.sin(x)\n",
    "#plt.plot(date_list[0:100],y[0:100])\n"
   ]
  },
  {
   "cell_type": "code",
   "execution_count": 6,
   "id": "d95d0cec",
   "metadata": {},
   "outputs": [
    {
     "name": "stdout",
     "output_type": "stream",
     "text": [
      "[datetime.datetime(2010, 1, 1, 0, 0) datetime.datetime(2010, 1, 2, 0, 0)\n",
      " datetime.datetime(2010, 1, 3, 0, 0) datetime.datetime(2010, 1, 4, 0, 0)\n",
      " datetime.datetime(2010, 1, 5, 0, 0)]\n"
     ]
    }
   ],
   "source": []
  },
  {
   "cell_type": "code",
   "execution_count": null,
   "id": "4f74ebd8",
   "metadata": {},
   "outputs": [],
   "source": []
  }
 ],
 "metadata": {
  "kernelspec": {
   "display_name": "Python 3 (ipykernel)",
   "language": "python",
   "name": "python3"
  },
  "language_info": {
   "codemirror_mode": {
    "name": "ipython",
    "version": 3
   },
   "file_extension": ".py",
   "mimetype": "text/x-python",
   "name": "python",
   "nbconvert_exporter": "python",
   "pygments_lexer": "ipython3",
   "version": "3.8.13"
  }
 },
 "nbformat": 4,
 "nbformat_minor": 5
}
